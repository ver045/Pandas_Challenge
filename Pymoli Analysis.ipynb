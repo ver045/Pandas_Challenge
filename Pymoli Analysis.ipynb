{
 "cells": [
  {
   "cell_type": "code",
   "execution_count": null,
   "metadata": {},
   "outputs": [],
   "source": [
    "Based on the data, I was able to to analyze and observe three consumerable trends. \n",
    "\n",
    "The first trend noted was in the gender demographics, Males were top players and purchasers, \n",
    "with a total of 484 players making that 84.03 % of the overall players. \n",
    "\n",
    "Within that information, it was also noted that males within the age group of 20-24 were the highest reported\n",
    "players & purchasers, with a total of 258 players, the total purchasing count of 652,\n",
    "and making a total purchasing revenue of $1,967.64.\n",
    "\n",
    "The last trend I was able to analyze is the players that had the lowest counts of players were within the age\n",
    "group of 40+, the lowest purchase count of 13, therefore, creating the least amount of purchasing revenue, \n",
    "totaling up to the value of $38.24\n",
    "\n",
    "\n",
    "\n"
   ]
  }
 ],
 "metadata": {
  "kernelspec": {
   "display_name": "Python 3",
   "language": "python",
   "name": "python3"
  },
  "language_info": {
   "codemirror_mode": {
    "name": "ipython",
    "version": 3
   },
   "file_extension": ".py",
   "mimetype": "text/x-python",
   "name": "python",
   "nbconvert_exporter": "python",
   "pygments_lexer": "ipython3",
   "version": "3.7.4"
  }
 },
 "nbformat": 4,
 "nbformat_minor": 2
}
